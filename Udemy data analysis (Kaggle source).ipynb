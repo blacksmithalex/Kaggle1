{
 "cells": [
  {
   "cell_type": "markdown",
   "id": "75c6daa7",
   "metadata": {},
   "source": [
    "# Медиаграмотность. Работа с данными.\n",
    "\n",
    "Данные взяты здесь: https://www.kaggle.com/andrewmvd/udemy-courses\n",
    "\n",
    "Данные иллюитрирую курсы на платформе https://www.udemy.com. \n",
    "\n",
    "Вопросы по данным:\n",
    "\n",
    "- Как предмет из бесплатных курсов лучше всего себя показал?\n",
    "- Какие курсы самые популярные?\n",
    "- Какие курсы самые вовлекающие? \n",
    "- Есть ли взаимосвязь между курсами?\n",
    "- С каких курсов наибольшая прибыль?"
   ]
  },
  {
   "cell_type": "code",
   "execution_count": 14,
   "id": "1b4dc8c6",
   "metadata": {},
   "outputs": [
    {
     "data": {
      "text/html": [
       "<div>\n",
       "<style scoped>\n",
       "    .dataframe tbody tr th:only-of-type {\n",
       "        vertical-align: middle;\n",
       "    }\n",
       "\n",
       "    .dataframe tbody tr th {\n",
       "        vertical-align: top;\n",
       "    }\n",
       "\n",
       "    .dataframe thead th {\n",
       "        text-align: right;\n",
       "    }\n",
       "</style>\n",
       "<table border=\"1\" class=\"dataframe\">\n",
       "  <thead>\n",
       "    <tr style=\"text-align: right;\">\n",
       "      <th></th>\n",
       "      <th>course_id</th>\n",
       "      <th>course_title</th>\n",
       "      <th>url</th>\n",
       "      <th>is_paid</th>\n",
       "      <th>price</th>\n",
       "      <th>num_subscribers</th>\n",
       "      <th>num_reviews</th>\n",
       "      <th>num_lectures</th>\n",
       "      <th>level</th>\n",
       "      <th>content_duration</th>\n",
       "      <th>published_timestamp</th>\n",
       "      <th>subject</th>\n",
       "    </tr>\n",
       "  </thead>\n",
       "  <tbody>\n",
       "    <tr>\n",
       "      <th>0</th>\n",
       "      <td>1070968</td>\n",
       "      <td>Ultimate Investment Banking Course</td>\n",
       "      <td>https://www.udemy.com/ultimate-investment-bank...</td>\n",
       "      <td>True</td>\n",
       "      <td>200</td>\n",
       "      <td>2147</td>\n",
       "      <td>23</td>\n",
       "      <td>51</td>\n",
       "      <td>All Levels</td>\n",
       "      <td>1.5</td>\n",
       "      <td>2017-01-18T20:58:58Z</td>\n",
       "      <td>Business Finance</td>\n",
       "    </tr>\n",
       "    <tr>\n",
       "      <th>1</th>\n",
       "      <td>1113822</td>\n",
       "      <td>Complete GST Course &amp; Certification - Grow You...</td>\n",
       "      <td>https://www.udemy.com/goods-and-services-tax/</td>\n",
       "      <td>True</td>\n",
       "      <td>75</td>\n",
       "      <td>2792</td>\n",
       "      <td>923</td>\n",
       "      <td>274</td>\n",
       "      <td>All Levels</td>\n",
       "      <td>39.0</td>\n",
       "      <td>2017-03-09T16:34:20Z</td>\n",
       "      <td>Business Finance</td>\n",
       "    </tr>\n",
       "    <tr>\n",
       "      <th>2</th>\n",
       "      <td>1006314</td>\n",
       "      <td>Financial Modeling for Business Analysts and C...</td>\n",
       "      <td>https://www.udemy.com/financial-modeling-for-b...</td>\n",
       "      <td>True</td>\n",
       "      <td>45</td>\n",
       "      <td>2174</td>\n",
       "      <td>74</td>\n",
       "      <td>51</td>\n",
       "      <td>Intermediate Level</td>\n",
       "      <td>2.5</td>\n",
       "      <td>2016-12-19T19:26:30Z</td>\n",
       "      <td>Business Finance</td>\n",
       "    </tr>\n",
       "    <tr>\n",
       "      <th>3</th>\n",
       "      <td>1210588</td>\n",
       "      <td>Beginner to Pro - Financial Analysis in Excel ...</td>\n",
       "      <td>https://www.udemy.com/complete-excel-finance-c...</td>\n",
       "      <td>True</td>\n",
       "      <td>95</td>\n",
       "      <td>2451</td>\n",
       "      <td>11</td>\n",
       "      <td>36</td>\n",
       "      <td>All Levels</td>\n",
       "      <td>3.0</td>\n",
       "      <td>2017-05-30T20:07:24Z</td>\n",
       "      <td>Business Finance</td>\n",
       "    </tr>\n",
       "    <tr>\n",
       "      <th>4</th>\n",
       "      <td>1011058</td>\n",
       "      <td>How To Maximize Your Profits Trading Options</td>\n",
       "      <td>https://www.udemy.com/how-to-maximize-your-pro...</td>\n",
       "      <td>True</td>\n",
       "      <td>200</td>\n",
       "      <td>1276</td>\n",
       "      <td>45</td>\n",
       "      <td>26</td>\n",
       "      <td>Intermediate Level</td>\n",
       "      <td>2.0</td>\n",
       "      <td>2016-12-13T14:57:18Z</td>\n",
       "      <td>Business Finance</td>\n",
       "    </tr>\n",
       "  </tbody>\n",
       "</table>\n",
       "</div>"
      ],
      "text/plain": [
       "   course_id                                       course_title  \\\n",
       "0    1070968                 Ultimate Investment Banking Course   \n",
       "1    1113822  Complete GST Course & Certification - Grow You...   \n",
       "2    1006314  Financial Modeling for Business Analysts and C...   \n",
       "3    1210588  Beginner to Pro - Financial Analysis in Excel ...   \n",
       "4    1011058       How To Maximize Your Profits Trading Options   \n",
       "\n",
       "                                                 url  is_paid  price  \\\n",
       "0  https://www.udemy.com/ultimate-investment-bank...     True    200   \n",
       "1      https://www.udemy.com/goods-and-services-tax/     True     75   \n",
       "2  https://www.udemy.com/financial-modeling-for-b...     True     45   \n",
       "3  https://www.udemy.com/complete-excel-finance-c...     True     95   \n",
       "4  https://www.udemy.com/how-to-maximize-your-pro...     True    200   \n",
       "\n",
       "   num_subscribers  num_reviews  num_lectures               level  \\\n",
       "0             2147           23            51          All Levels   \n",
       "1             2792          923           274          All Levels   \n",
       "2             2174           74            51  Intermediate Level   \n",
       "3             2451           11            36          All Levels   \n",
       "4             1276           45            26  Intermediate Level   \n",
       "\n",
       "   content_duration   published_timestamp           subject  \n",
       "0               1.5  2017-01-18T20:58:58Z  Business Finance  \n",
       "1              39.0  2017-03-09T16:34:20Z  Business Finance  \n",
       "2               2.5  2016-12-19T19:26:30Z  Business Finance  \n",
       "3               3.0  2017-05-30T20:07:24Z  Business Finance  \n",
       "4               2.0  2016-12-13T14:57:18Z  Business Finance  "
      ]
     },
     "execution_count": 14,
     "metadata": {},
     "output_type": "execute_result"
    }
   ],
   "source": [
    "%matplotlib inline\n",
    "import pandas as pd\n",
    "from matplotlib import pyplot as plt\n",
    "df = pd.read_csv('udemy_courses.csv')\n",
    "df.head()"
   ]
  },
  {
   "cell_type": "markdown",
   "id": "a36a57a1",
   "metadata": {},
   "source": [
    "Давайте посмотрим, сколько всего у нас данных:"
   ]
  },
  {
   "cell_type": "code",
   "execution_count": 15,
   "id": "3aa50ef6",
   "metadata": {},
   "outputs": [
    {
     "name": "stdout",
     "output_type": "stream",
     "text": [
      "3678\n"
     ]
    }
   ],
   "source": [
    "print(len(df))"
   ]
  },
  {
   "cell_type": "markdown",
   "id": "c5ab92f8",
   "metadata": {},
   "source": [
    "Давайте посмотрим, по каким направлениям проводятся курсы:"
   ]
  },
  {
   "cell_type": "code",
   "execution_count": 16,
   "id": "64d225a0",
   "metadata": {},
   "outputs": [
    {
     "data": {
      "text/plain": [
       "Web Development        1200\n",
       "Business Finance       1195\n",
       "Musical Instruments     680\n",
       "Graphic Design          603\n",
       "Name: subject, dtype: int64"
      ]
     },
     "execution_count": 16,
     "metadata": {},
     "output_type": "execute_result"
    }
   ],
   "source": [
    "df['subject'].value_counts()"
   ]
  },
  {
   "cell_type": "markdown",
   "id": "db758a6c",
   "metadata": {},
   "source": [
    "Вывод: курсы на платформе Udemy проводятся по 4 направлениям: Веб разработка, бизнес финансы, музыкальная тематика и графический дизайн. "
   ]
  },
  {
   "cell_type": "code",
   "execution_count": 26,
   "id": "d8e2d734",
   "metadata": {},
   "outputs": [
    {
     "data": {
      "image/png": "[encoded data removed]",
      "text/plain": [
       "<Figure size 1440x288 with 1 Axes>"
      ]
     },
     "metadata": {
      "needs_background": "light"
     },
     "output_type": "display_data"
    }
   ],
   "source": [
    "x = list(df['subject'].value_counts().index)\n",
    "y = list(df['subject'].value_counts())\n",
    "plt.figure(figsize=(20, 4))\n",
    "plt.title('Курсы на Udemy')\n",
    "plt.bar(x = x, height = y, color = 'green')\n",
    "pass"
   ]
  },
  {
   "cell_type": "markdown",
   "id": "82293631",
   "metadata": {},
   "source": [
    "Ответим на вопрос: какое направление по бесплатным курсам показывает себя лучше всего."
   ]
  },
  {
   "cell_type": "code",
   "execution_count": 28,
   "id": "d6b53652",
   "metadata": {},
   "outputs": [
    {
     "data": {
      "text/html": [
       "<div>\n",
       "<style scoped>\n",
       "    .dataframe tbody tr th:only-of-type {\n",
       "        vertical-align: middle;\n",
       "    }\n",
       "\n",
       "    .dataframe tbody tr th {\n",
       "        vertical-align: top;\n",
       "    }\n",
       "\n",
       "    .dataframe thead th {\n",
       "        text-align: right;\n",
       "    }\n",
       "</style>\n",
       "<table border=\"1\" class=\"dataframe\">\n",
       "  <thead>\n",
       "    <tr style=\"text-align: right;\">\n",
       "      <th></th>\n",
       "      <th>course_id</th>\n",
       "      <th>course_title</th>\n",
       "      <th>url</th>\n",
       "      <th>is_paid</th>\n",
       "      <th>price</th>\n",
       "      <th>num_subscribers</th>\n",
       "      <th>num_reviews</th>\n",
       "      <th>num_lectures</th>\n",
       "      <th>level</th>\n",
       "      <th>content_duration</th>\n",
       "      <th>published_timestamp</th>\n",
       "      <th>subject</th>\n",
       "    </tr>\n",
       "  </thead>\n",
       "  <tbody>\n",
       "    <tr>\n",
       "      <th>95</th>\n",
       "      <td>1148774</td>\n",
       "      <td>Options Trading 101: The Basics</td>\n",
       "      <td>https://www.udemy.com/options-trading-101-the-...</td>\n",
       "      <td>False</td>\n",
       "      <td>0</td>\n",
       "      <td>1514</td>\n",
       "      <td>66</td>\n",
       "      <td>11</td>\n",
       "      <td>Beginner Level</td>\n",
       "      <td>0.55</td>\n",
       "      <td>2017-03-23T22:19:57Z</td>\n",
       "      <td>Business Finance</td>\n",
       "    </tr>\n",
       "    <tr>\n",
       "      <th>103</th>\n",
       "      <td>133536</td>\n",
       "      <td>Stock Market Investing for Beginners</td>\n",
       "      <td>https://www.udemy.com/the-beginners-guide-to-t...</td>\n",
       "      <td>False</td>\n",
       "      <td>0</td>\n",
       "      <td>50855</td>\n",
       "      <td>2698</td>\n",
       "      <td>15</td>\n",
       "      <td>Beginner Level</td>\n",
       "      <td>1.50</td>\n",
       "      <td>2013-12-25T19:53:34Z</td>\n",
       "      <td>Business Finance</td>\n",
       "    </tr>\n",
       "    <tr>\n",
       "      <th>106</th>\n",
       "      <td>265960</td>\n",
       "      <td>Fundamentals of Forex Trading</td>\n",
       "      <td>https://www.udemy.com/fundamentals-of-forex-tr...</td>\n",
       "      <td>False</td>\n",
       "      <td>0</td>\n",
       "      <td>17160</td>\n",
       "      <td>620</td>\n",
       "      <td>23</td>\n",
       "      <td>All Levels</td>\n",
       "      <td>1.00</td>\n",
       "      <td>2014-08-29T20:10:38Z</td>\n",
       "      <td>Business Finance</td>\n",
       "    </tr>\n",
       "    <tr>\n",
       "      <th>108</th>\n",
       "      <td>923616</td>\n",
       "      <td>Website Investing 101 - Buying &amp; Selling Onlin...</td>\n",
       "      <td>https://www.udemy.com/cash-flow-website-invest...</td>\n",
       "      <td>False</td>\n",
       "      <td>0</td>\n",
       "      <td>6811</td>\n",
       "      <td>151</td>\n",
       "      <td>51</td>\n",
       "      <td>All Levels</td>\n",
       "      <td>2.00</td>\n",
       "      <td>2016-08-05T17:03:15Z</td>\n",
       "      <td>Business Finance</td>\n",
       "    </tr>\n",
       "    <tr>\n",
       "      <th>112</th>\n",
       "      <td>191854</td>\n",
       "      <td>Stock Market Foundations</td>\n",
       "      <td>https://www.udemy.com/how-to-invest-in-the-sto...</td>\n",
       "      <td>False</td>\n",
       "      <td>0</td>\n",
       "      <td>19339</td>\n",
       "      <td>794</td>\n",
       "      <td>9</td>\n",
       "      <td>Beginner Level</td>\n",
       "      <td>2.00</td>\n",
       "      <td>2014-03-31T21:35:06Z</td>\n",
       "      <td>Business Finance</td>\n",
       "    </tr>\n",
       "  </tbody>\n",
       "</table>\n",
       "</div>"
      ],
      "text/plain": [
       "     course_id                                       course_title  \\\n",
       "95     1148774                    Options Trading 101: The Basics   \n",
       "103     133536               Stock Market Investing for Beginners   \n",
       "106     265960                      Fundamentals of Forex Trading   \n",
       "108     923616  Website Investing 101 - Buying & Selling Onlin...   \n",
       "112     191854                           Stock Market Foundations   \n",
       "\n",
       "                                                   url  is_paid  price  \\\n",
       "95   https://www.udemy.com/options-trading-101-the-...    False      0   \n",
       "103  https://www.udemy.com/the-beginners-guide-to-t...    False      0   \n",
       "106  https://www.udemy.com/fundamentals-of-forex-tr...    False      0   \n",
       "108  https://www.udemy.com/cash-flow-website-invest...    False      0   \n",
       "112  https://www.udemy.com/how-to-invest-in-the-sto...    False      0   \n",
       "\n",
       "     num_subscribers  num_reviews  num_lectures           level  \\\n",
       "95              1514           66            11  Beginner Level   \n",
       "103            50855         2698            15  Beginner Level   \n",
       "106            17160          620            23      All Levels   \n",
       "108             6811          151            51      All Levels   \n",
       "112            19339          794             9  Beginner Level   \n",
       "\n",
       "     content_duration   published_timestamp           subject  \n",
       "95               0.55  2017-03-23T22:19:57Z  Business Finance  \n",
       "103              1.50  2013-12-25T19:53:34Z  Business Finance  \n",
       "106              1.00  2014-08-29T20:10:38Z  Business Finance  \n",
       "108              2.00  2016-08-05T17:03:15Z  Business Finance  \n",
       "112              2.00  2014-03-31T21:35:06Z  Business Finance  "
      ]
     },
     "execution_count": 28,
     "metadata": {},
     "output_type": "execute_result"
    }
   ],
   "source": [
    "df_free = df[df['is_paid'] == False]\n",
    "df_free.head()"
   ]
  },
  {
   "cell_type": "markdown",
   "id": "d2359047",
   "metadata": {},
   "source": [
    "Посмотрим, сколько всего таких курсов:"
   ]
  },
  {
   "cell_type": "code",
   "execution_count": 29,
   "id": "95d46349",
   "metadata": {},
   "outputs": [
    {
     "data": {
      "text/plain": [
       "310"
      ]
     },
     "execution_count": 29,
     "metadata": {},
     "output_type": "execute_result"
    }
   ],
   "source": [
    "len(df_free)"
   ]
  },
  {
   "cell_type": "markdown",
   "id": "c9e6a2ff",
   "metadata": {},
   "source": [
    "То есть бесплатные курсы составляют около 10% от всех курсов."
   ]
  },
  {
   "cell_type": "markdown",
   "id": "938ed39f",
   "metadata": {},
   "source": [
    "### Идея: посмотрим, какое максимальное количество людей записалось на бесплатный курс по каждому из направлений.\n",
    "\n",
    "\n"
   ]
  },
  {
   "cell_type": "code",
   "execution_count": 33,
   "id": "28b5fc13",
   "metadata": {},
   "outputs": [],
   "source": [
    "df_free_web = df_free[df_free['subject'] == 'Web Development']\n",
    "df_free_business = df_free[df_free['subject'] == 'Business Finance']\n",
    "df_free_music = df_free[df_free['subject'] == 'Musical Instruments']\n",
    "df_free_design = df_free[df_free['subject'] == 'Graphic Design']"
   ]
  },
  {
   "cell_type": "code",
   "execution_count": 42,
   "id": "9698c617",
   "metadata": {},
   "outputs": [
    {
     "data": {
      "image/png": "[encoded data removed]",
      "text/plain": [
       "<Figure size 1440x288 with 1 Axes>"
      ]
     },
     "metadata": {
      "needs_background": "light"
     },
     "output_type": "display_data"
    }
   ],
   "source": [
    "l = []\n",
    "l.append(max(df_free_web['num_subscribers']))\n",
    "l.append(max(df_free_business['num_subscribers']))\n",
    "l.append(max(df_free_music['num_subscribers']))\n",
    "l.append(max(df_free_design['num_subscribers']))\n",
    "names = ['Web Development','Business Finance','Musical Instruments','Graphic Design']\n",
    "\n",
    "plt.figure(figsize=(20, 4))\n",
    "plt.title('Максимальное число людей, которые поучавствовали на бесплатных курсах по направлениям')\n",
    "plt.bar(x = names, height = l, color = 'blue')\n",
    "pass"
   ]
  },
  {
   "cell_type": "markdown",
   "id": "bb4bc8cc",
   "metadata": {},
   "source": [
    "### Также посмотрим на максимальное количество отзывов по этим направлениям."
   ]
  },
  {
   "cell_type": "code",
   "execution_count": 44,
   "id": "fae065d1",
   "metadata": {},
   "outputs": [
    {
     "data": {
      "image/png": "[encoded data removed]",
      "text/plain": [
       "<Figure size 1440x288 with 1 Axes>"
      ]
     },
     "metadata": {
      "needs_background": "light"
     },
     "output_type": "display_data"
    }
   ],
   "source": [
    "l = []\n",
    "l.append(max(df_free_web['num_reviews']))\n",
    "l.append(max(df_free_business['num_reviews']))\n",
    "l.append(max(df_free_music['num_reviews']))\n",
    "l.append(max(df_free_design['num_reviews']))\n",
    "names = ['Web Development','Business Finance','Musical Instruments','Graphic Design']\n",
    "\n",
    "plt.figure(figsize=(20, 4))\n",
    "plt.title('Максимальное число людей, которые оставили отзывы на бесплатных курсах по направлениям')\n",
    "plt.bar(x = names, height = l, color = 'yellow')\n",
    "pass"
   ]
  },
  {
   "cell_type": "markdown",
   "id": "ac22e5a3",
   "metadata": {},
   "source": [
    "### Давайте также посмотрим на относительную метрику. Поясним это:\n",
    "\n",
    "Какие-то курсы могли запуститься недавно и по ним просто не успело собраться много отзывов и посещений. Поэтому посмотрим на отношение посещений к отзывам."
   ]
  },
  {
   "cell_type": "code",
   "execution_count": 78,
   "id": "99aeb5a6",
   "metadata": {},
   "outputs": [
    {
     "data": {
      "image/png": "[encoded data removed]",
      "text/plain": [
       "<Figure size 1440x288 with 1 Axes>"
      ]
     },
     "metadata": {
      "needs_background": "light"
     },
     "output_type": "display_data"
    }
   ],
   "source": [
    "from statistics import mean\n",
    "\n",
    "r_web = list(df_free_web['num_reviews'])\n",
    "s_web = list(df_free_web['num_subscribers'])\n",
    "q_web = []\n",
    "for i in range(len(r_web)):\n",
    "    q_web.append(round(r_web[i] / s_web[i],3))\n",
    "\n",
    "q_web_avg = round(mean(q_web),3)\n",
    "\n",
    "r_business = list(df_free_business['num_reviews'])\n",
    "s_business = list(df_free_business['num_subscribers'])\n",
    "q_business = []\n",
    "for i in range(len(r_business)):\n",
    "    q_business.append(round(r_business[i] / s_business[i],3))\n",
    "\n",
    "q_business_avg = round(mean(q_business),3)\n",
    "\n",
    "r_music = list(df_free_music['num_reviews'])\n",
    "s_music = list(df_free_music['num_subscribers'])\n",
    "q_music = []\n",
    "for i in range(len(r_music)):\n",
    "    q_music.append(round(r_music[i] / s_music[i],3))\n",
    "\n",
    "q_music_avg = round(mean(q_music),3)\n",
    "\n",
    "r_design = list(df_free_design['num_reviews'])\n",
    "s_design = list(df_free_design['num_subscribers'])\n",
    "q_design = []\n",
    "for i in range(len(r_design)):\n",
    "    q_design.append(round(r_design[i] / s_design[i],3))\n",
    "\n",
    "q_design_avg = round(mean(q_design),3)\n",
    "\n",
    "q = [q_web_avg,q_business_avg,q_music_avg,q_design_avg ]\n",
    "\n",
    "names = ['Web Development','Business Finance','Musical Instruments','Graphic Design']\n",
    "\n",
    "plt.figure(figsize=(20, 4))\n",
    "plt.title('Отношение количества отзывов к количеству прохождений курса на бесплатных курсах по направлениям')\n",
    "plt.bar(x = names, height = q, color = 'black')\n",
    "pass"
   ]
  },
  {
   "cell_type": "markdown",
   "id": "229c6d9e",
   "metadata": {},
   "source": [
    "# Посмотрим, какую прибыль суммарно и максимально получила платформа с курсов по данным направлениям:"
   ]
  },
  {
   "cell_type": "code",
   "execution_count": 89,
   "id": "e83e5afa",
   "metadata": {},
   "outputs": [
    {
     "data": {
      "text/plain": [
       "92440"
      ]
     },
     "execution_count": 89,
     "metadata": {},
     "output_type": "execute_result"
    }
   ],
   "source": [
    "sum(df[df['subject'] == 'Web Development']['price'])"
   ]
  },
  {
   "cell_type": "code",
   "execution_count": 90,
   "id": "b64934e2",
   "metadata": {},
   "outputs": [
    {
     "data": {
      "text/plain": [
       "81920"
      ]
     },
     "execution_count": 90,
     "metadata": {},
     "output_type": "execute_result"
    }
   ],
   "source": [
    "sum(df[df['subject'] == 'Business Finance']['price'])"
   ]
  },
  {
   "cell_type": "code",
   "execution_count": 91,
   "id": "815d18af",
   "metadata": {},
   "outputs": [
    {
     "data": {
      "text/plain": [
       "33700"
      ]
     },
     "execution_count": 91,
     "metadata": {},
     "output_type": "execute_result"
    }
   ],
   "source": [
    "sum(df[df['subject'] == 'Musical Instruments']['price'])"
   ]
  },
  {
   "cell_type": "code",
   "execution_count": 92,
   "id": "f9a7bb6e",
   "metadata": {},
   "outputs": [
    {
     "data": {
      "text/plain": [
       "34870"
      ]
     },
     "execution_count": 92,
     "metadata": {},
     "output_type": "execute_result"
    }
   ],
   "source": [
    "sum(df[df['subject'] == 'Graphic Design']['price'])"
   ]
  },
  {
   "cell_type": "markdown",
   "id": "2cda8cdb",
   "metadata": {},
   "source": [
    "Вывод: за все время с курсов по Веб разработке и бизнес финансам было заработано больше всего денег. "
   ]
  },
  {
   "cell_type": "markdown",
   "id": "a98de084",
   "metadata": {},
   "source": [
    "## Вывод: по данным, которые посмотрели можно заметить:\n",
    "\n",
    "- Курсы по Веб разработке принесли большую часть прибыли, бесплатные курсы этого направления хорошо вовлекают людей.\n",
    "- Курсы по бизнес - финансам хорошо конвертировали прибыль, но как бесплатные курсы заходят на порядок хуже. \n",
    "- Курсы по музыкальным инструментам пока являются отстающими на фоне остальных курсов.\n",
    "- Курсы по графическому дизайну имеет хороший отклик. "
   ]
  },
  {
   "cell_type": "markdown",
   "id": "b77698a8",
   "metadata": {},
   "source": [
    "Очевидно, что важно понимать изменение тенденции на курсы по годам. "
   ]
  },
  {
   "cell_type": "code",
   "execution_count": 100,
   "id": "bed47a6c",
   "metadata": {},
   "outputs": [
    {
     "data": {
      "text/html": [
       "<div>\n",
       "<style scoped>\n",
       "    .dataframe tbody tr th:only-of-type {\n",
       "        vertical-align: middle;\n",
       "    }\n",
       "\n",
       "    .dataframe tbody tr th {\n",
       "        vertical-align: top;\n",
       "    }\n",
       "\n",
       "    .dataframe thead th {\n",
       "        text-align: right;\n",
       "    }\n",
       "</style>\n",
       "<table border=\"1\" class=\"dataframe\">\n",
       "  <thead>\n",
       "    <tr style=\"text-align: right;\">\n",
       "      <th></th>\n",
       "      <th>course_id</th>\n",
       "      <th>course_title</th>\n",
       "      <th>url</th>\n",
       "      <th>is_paid</th>\n",
       "      <th>price</th>\n",
       "      <th>num_subscribers</th>\n",
       "      <th>num_reviews</th>\n",
       "      <th>num_lectures</th>\n",
       "      <th>level</th>\n",
       "      <th>content_duration</th>\n",
       "      <th>published_timestamp</th>\n",
       "      <th>subject</th>\n",
       "      <th>years</th>\n",
       "    </tr>\n",
       "  </thead>\n",
       "  <tbody>\n",
       "    <tr>\n",
       "      <th>0</th>\n",
       "      <td>1070968</td>\n",
       "      <td>Ultimate Investment Banking Course</td>\n",
       "      <td>https://www.udemy.com/ultimate-investment-bank...</td>\n",
       "      <td>True</td>\n",
       "      <td>200</td>\n",
       "      <td>2147</td>\n",
       "      <td>23</td>\n",
       "      <td>51</td>\n",
       "      <td>All Levels</td>\n",
       "      <td>1.5</td>\n",
       "      <td>2017-01-18T20:58:58Z</td>\n",
       "      <td>Business Finance</td>\n",
       "      <td>2017</td>\n",
       "    </tr>\n",
       "    <tr>\n",
       "      <th>1</th>\n",
       "      <td>1113822</td>\n",
       "      <td>Complete GST Course &amp; Certification - Grow You...</td>\n",
       "      <td>https://www.udemy.com/goods-and-services-tax/</td>\n",
       "      <td>True</td>\n",
       "      <td>75</td>\n",
       "      <td>2792</td>\n",
       "      <td>923</td>\n",
       "      <td>274</td>\n",
       "      <td>All Levels</td>\n",
       "      <td>39.0</td>\n",
       "      <td>2017-03-09T16:34:20Z</td>\n",
       "      <td>Business Finance</td>\n",
       "      <td>2017</td>\n",
       "    </tr>\n",
       "    <tr>\n",
       "      <th>2</th>\n",
       "      <td>1006314</td>\n",
       "      <td>Financial Modeling for Business Analysts and C...</td>\n",
       "      <td>https://www.udemy.com/financial-modeling-for-b...</td>\n",
       "      <td>True</td>\n",
       "      <td>45</td>\n",
       "      <td>2174</td>\n",
       "      <td>74</td>\n",
       "      <td>51</td>\n",
       "      <td>Intermediate Level</td>\n",
       "      <td>2.5</td>\n",
       "      <td>2016-12-19T19:26:30Z</td>\n",
       "      <td>Business Finance</td>\n",
       "      <td>2016</td>\n",
       "    </tr>\n",
       "    <tr>\n",
       "      <th>3</th>\n",
       "      <td>1210588</td>\n",
       "      <td>Beginner to Pro - Financial Analysis in Excel ...</td>\n",
       "      <td>https://www.udemy.com/complete-excel-finance-c...</td>\n",
       "      <td>True</td>\n",
       "      <td>95</td>\n",
       "      <td>2451</td>\n",
       "      <td>11</td>\n",
       "      <td>36</td>\n",
       "      <td>All Levels</td>\n",
       "      <td>3.0</td>\n",
       "      <td>2017-05-30T20:07:24Z</td>\n",
       "      <td>Business Finance</td>\n",
       "      <td>2017</td>\n",
       "    </tr>\n",
       "    <tr>\n",
       "      <th>4</th>\n",
       "      <td>1011058</td>\n",
       "      <td>How To Maximize Your Profits Trading Options</td>\n",
       "      <td>https://www.udemy.com/how-to-maximize-your-pro...</td>\n",
       "      <td>True</td>\n",
       "      <td>200</td>\n",
       "      <td>1276</td>\n",
       "      <td>45</td>\n",
       "      <td>26</td>\n",
       "      <td>Intermediate Level</td>\n",
       "      <td>2.0</td>\n",
       "      <td>2016-12-13T14:57:18Z</td>\n",
       "      <td>Business Finance</td>\n",
       "      <td>2016</td>\n",
       "    </tr>\n",
       "  </tbody>\n",
       "</table>\n",
       "</div>"
      ],
      "text/plain": [
       "   course_id                                       course_title  \\\n",
       "0    1070968                 Ultimate Investment Banking Course   \n",
       "1    1113822  Complete GST Course & Certification - Grow You...   \n",
       "2    1006314  Financial Modeling for Business Analysts and C...   \n",
       "3    1210588  Beginner to Pro - Financial Analysis in Excel ...   \n",
       "4    1011058       How To Maximize Your Profits Trading Options   \n",
       "\n",
       "                                                 url  is_paid  price  \\\n",
       "0  https://www.udemy.com/ultimate-investment-bank...     True    200   \n",
       "1      https://www.udemy.com/goods-and-services-tax/     True     75   \n",
       "2  https://www.udemy.com/financial-modeling-for-b...     True     45   \n",
       "3  https://www.udemy.com/complete-excel-finance-c...     True     95   \n",
       "4  https://www.udemy.com/how-to-maximize-your-pro...     True    200   \n",
       "\n",
       "   num_subscribers  num_reviews  num_lectures               level  \\\n",
       "0             2147           23            51          All Levels   \n",
       "1             2792          923           274          All Levels   \n",
       "2             2174           74            51  Intermediate Level   \n",
       "3             2451           11            36          All Levels   \n",
       "4             1276           45            26  Intermediate Level   \n",
       "\n",
       "   content_duration   published_timestamp           subject years  \n",
       "0               1.5  2017-01-18T20:58:58Z  Business Finance  2017  \n",
       "1              39.0  2017-03-09T16:34:20Z  Business Finance  2017  \n",
       "2               2.5  2016-12-19T19:26:30Z  Business Finance  2016  \n",
       "3               3.0  2017-05-30T20:07:24Z  Business Finance  2017  \n",
       "4               2.0  2016-12-13T14:57:18Z  Business Finance  2016  "
      ]
     },
     "execution_count": 100,
     "metadata": {},
     "output_type": "execute_result"
    }
   ],
   "source": [
    "years = []\n",
    "for x in list(df['published_timestamp']):\n",
    "    years.append(x.split('-')[0])\n",
    "df['years'] = years\n",
    "df.head()"
   ]
  },
  {
   "cell_type": "code",
   "execution_count": 104,
   "id": "0ca603a5",
   "metadata": {},
   "outputs": [
    {
     "data": {
      "text/html": [
       "<div>\n",
       "<style scoped>\n",
       "    .dataframe tbody tr th:only-of-type {\n",
       "        vertical-align: middle;\n",
       "    }\n",
       "\n",
       "    .dataframe tbody tr th {\n",
       "        vertical-align: top;\n",
       "    }\n",
       "\n",
       "    .dataframe thead th {\n",
       "        text-align: right;\n",
       "    }\n",
       "</style>\n",
       "<table border=\"1\" class=\"dataframe\">\n",
       "  <thead>\n",
       "    <tr style=\"text-align: right;\">\n",
       "      <th></th>\n",
       "      <th>course_id</th>\n",
       "      <th>course_title</th>\n",
       "      <th>url</th>\n",
       "      <th>is_paid</th>\n",
       "      <th>price</th>\n",
       "      <th>num_subscribers</th>\n",
       "      <th>num_reviews</th>\n",
       "      <th>num_lectures</th>\n",
       "      <th>level</th>\n",
       "      <th>content_duration</th>\n",
       "      <th>published_timestamp</th>\n",
       "      <th>subject</th>\n",
       "      <th>years</th>\n",
       "    </tr>\n",
       "  </thead>\n",
       "  <tbody>\n",
       "    <tr>\n",
       "      <th>0</th>\n",
       "      <td>1070968</td>\n",
       "      <td>Ultimate Investment Banking Course</td>\n",
       "      <td>https://www.udemy.com/ultimate-investment-bank...</td>\n",
       "      <td>True</td>\n",
       "      <td>200</td>\n",
       "      <td>2147</td>\n",
       "      <td>23</td>\n",
       "      <td>51</td>\n",
       "      <td>All Levels</td>\n",
       "      <td>1.5</td>\n",
       "      <td>2017-01-18T20:58:58Z</td>\n",
       "      <td>Business Finance</td>\n",
       "      <td>2017</td>\n",
       "    </tr>\n",
       "    <tr>\n",
       "      <th>1</th>\n",
       "      <td>1113822</td>\n",
       "      <td>Complete GST Course &amp; Certification - Grow You...</td>\n",
       "      <td>https://www.udemy.com/goods-and-services-tax/</td>\n",
       "      <td>True</td>\n",
       "      <td>75</td>\n",
       "      <td>2792</td>\n",
       "      <td>923</td>\n",
       "      <td>274</td>\n",
       "      <td>All Levels</td>\n",
       "      <td>39.0</td>\n",
       "      <td>2017-03-09T16:34:20Z</td>\n",
       "      <td>Business Finance</td>\n",
       "      <td>2017</td>\n",
       "    </tr>\n",
       "    <tr>\n",
       "      <th>2</th>\n",
       "      <td>1006314</td>\n",
       "      <td>Financial Modeling for Business Analysts and C...</td>\n",
       "      <td>https://www.udemy.com/financial-modeling-for-b...</td>\n",
       "      <td>True</td>\n",
       "      <td>45</td>\n",
       "      <td>2174</td>\n",
       "      <td>74</td>\n",
       "      <td>51</td>\n",
       "      <td>Intermediate Level</td>\n",
       "      <td>2.5</td>\n",
       "      <td>2016-12-19T19:26:30Z</td>\n",
       "      <td>Business Finance</td>\n",
       "      <td>2016</td>\n",
       "    </tr>\n",
       "    <tr>\n",
       "      <th>3</th>\n",
       "      <td>1210588</td>\n",
       "      <td>Beginner to Pro - Financial Analysis in Excel ...</td>\n",
       "      <td>https://www.udemy.com/complete-excel-finance-c...</td>\n",
       "      <td>True</td>\n",
       "      <td>95</td>\n",
       "      <td>2451</td>\n",
       "      <td>11</td>\n",
       "      <td>36</td>\n",
       "      <td>All Levels</td>\n",
       "      <td>3.0</td>\n",
       "      <td>2017-05-30T20:07:24Z</td>\n",
       "      <td>Business Finance</td>\n",
       "      <td>2017</td>\n",
       "    </tr>\n",
       "    <tr>\n",
       "      <th>4</th>\n",
       "      <td>1011058</td>\n",
       "      <td>How To Maximize Your Profits Trading Options</td>\n",
       "      <td>https://www.udemy.com/how-to-maximize-your-pro...</td>\n",
       "      <td>True</td>\n",
       "      <td>200</td>\n",
       "      <td>1276</td>\n",
       "      <td>45</td>\n",
       "      <td>26</td>\n",
       "      <td>Intermediate Level</td>\n",
       "      <td>2.0</td>\n",
       "      <td>2016-12-13T14:57:18Z</td>\n",
       "      <td>Business Finance</td>\n",
       "      <td>2016</td>\n",
       "    </tr>\n",
       "  </tbody>\n",
       "</table>\n",
       "</div>"
      ],
      "text/plain": [
       "   course_id                                       course_title  \\\n",
       "0    1070968                 Ultimate Investment Banking Course   \n",
       "1    1113822  Complete GST Course & Certification - Grow You...   \n",
       "2    1006314  Financial Modeling for Business Analysts and C...   \n",
       "3    1210588  Beginner to Pro - Financial Analysis in Excel ...   \n",
       "4    1011058       How To Maximize Your Profits Trading Options   \n",
       "\n",
       "                                                 url  is_paid  price  \\\n",
       "0  https://www.udemy.com/ultimate-investment-bank...     True    200   \n",
       "1      https://www.udemy.com/goods-and-services-tax/     True     75   \n",
       "2  https://www.udemy.com/financial-modeling-for-b...     True     45   \n",
       "3  https://www.udemy.com/complete-excel-finance-c...     True     95   \n",
       "4  https://www.udemy.com/how-to-maximize-your-pro...     True    200   \n",
       "\n",
       "   num_subscribers  num_reviews  num_lectures               level  \\\n",
       "0             2147           23            51          All Levels   \n",
       "1             2792          923           274          All Levels   \n",
       "2             2174           74            51  Intermediate Level   \n",
       "3             2451           11            36          All Levels   \n",
       "4             1276           45            26  Intermediate Level   \n",
       "\n",
       "   content_duration   published_timestamp           subject years  \n",
       "0               1.5  2017-01-18T20:58:58Z  Business Finance  2017  \n",
       "1              39.0  2017-03-09T16:34:20Z  Business Finance  2017  \n",
       "2               2.5  2016-12-19T19:26:30Z  Business Finance  2016  \n",
       "3               3.0  2017-05-30T20:07:24Z  Business Finance  2017  \n",
       "4               2.0  2016-12-13T14:57:18Z  Business Finance  2016  "
      ]
     },
     "execution_count": 104,
     "metadata": {},
     "output_type": "execute_result"
    }
   ],
   "source": [
    "data = df[df['subject'] == 'Business Finance']\n",
    "data.head()"
   ]
  },
  {
   "cell_type": "code",
   "execution_count": 118,
   "id": "85f75d45",
   "metadata": {},
   "outputs": [
    {
     "data": {
      "image/png": "[encoded data removed]",
      "text/plain": [
       "<Figure size 1440x576 with 1 Axes>"
      ]
     },
     "metadata": {
      "needs_background": "light"
     },
     "output_type": "display_data"
    }
   ],
   "source": [
    "money = data[['years','price']].groupby(by = ['years']).sum()\n",
    "plt.figure(figsize=(20, 8))\n",
    "plt.title('Суммарная прибыль с направления Business Finance по годам')\n",
    "plt.plot(money.index,money.values)\n",
    "pass"
   ]
  },
  {
   "cell_type": "markdown",
   "id": "0c6a8b93",
   "metadata": {},
   "source": [
    "## По графику видно:\n",
    "\n",
    "что с 2012 года по 2016 прибыль компании с курсов по бизнес-финансам росла, а в 2017 пошла наспад. Для компании имеет смысл разобраться, с чем было связано такое изменение. \n",
    "\n",
    "NB: Аналогичную аналитику можно провести по остальным направлениям (посмотреть как изменяется прибыль по годам)"
   ]
  },
  {
   "cell_type": "markdown",
   "id": "ea97da45",
   "metadata": {},
   "source": [
    "## Сразу можно задаться вопросом: \n",
    "\n",
    "А как менялась прибыль компании в целом по годам? "
   ]
  },
  {
   "cell_type": "code",
   "execution_count": 119,
   "id": "73bf24dd",
   "metadata": {},
   "outputs": [
    {
     "data": {
      "image/png": "[encoded data removed]",
      "text/plain": [
       "<Figure size 1440x576 with 1 Axes>"
      ]
     },
     "metadata": {
      "needs_background": "light"
     },
     "output_type": "display_data"
    }
   ],
   "source": [
    "money = df[['years','price']].groupby(by = ['years']).sum()\n",
    "plt.figure(figsize=(20, 8))\n",
    "plt.title('Суммарная прибыль по всем направлениям по годам')\n",
    "plt.plot(money.index,money.values)\n",
    "pass"
   ]
  },
  {
   "cell_type": "markdown",
   "id": "31345459",
   "metadata": {},
   "source": [
    "Тенденция распространяется на общую прибыль компании. Прибыль компании падает с 2016 по 2017 года. "
   ]
  },
  {
   "cell_type": "markdown",
   "id": "1ad4ddec",
   "metadata": {},
   "source": [
    "# Давайте посмотрим на нелидирующие направления по курсам:\n",
    "\n",
    "Поэтому посмотрим аналогичную статистику по Graphic Design по годам."
   ]
  },
  {
   "cell_type": "code",
   "execution_count": 120,
   "id": "8bb6bf18",
   "metadata": {},
   "outputs": [
    {
     "data": {
      "text/html": [
       "<div>\n",
       "<style scoped>\n",
       "    .dataframe tbody tr th:only-of-type {\n",
       "        vertical-align: middle;\n",
       "    }\n",
       "\n",
       "    .dataframe tbody tr th {\n",
       "        vertical-align: top;\n",
       "    }\n",
       "\n",
       "    .dataframe thead th {\n",
       "        text-align: right;\n",
       "    }\n",
       "</style>\n",
       "<table border=\"1\" class=\"dataframe\">\n",
       "  <thead>\n",
       "    <tr style=\"text-align: right;\">\n",
       "      <th></th>\n",
       "      <th>course_id</th>\n",
       "      <th>course_title</th>\n",
       "      <th>url</th>\n",
       "      <th>is_paid</th>\n",
       "      <th>price</th>\n",
       "      <th>num_subscribers</th>\n",
       "      <th>num_reviews</th>\n",
       "      <th>num_lectures</th>\n",
       "      <th>level</th>\n",
       "      <th>content_duration</th>\n",
       "      <th>published_timestamp</th>\n",
       "      <th>subject</th>\n",
       "      <th>years</th>\n",
       "    </tr>\n",
       "  </thead>\n",
       "  <tbody>\n",
       "    <tr>\n",
       "      <th>1195</th>\n",
       "      <td>880202</td>\n",
       "      <td>Anatomy and Figure Drawing for Beginners</td>\n",
       "      <td>https://www.udemy.com/anatomy-and-figure-drawi...</td>\n",
       "      <td>True</td>\n",
       "      <td>150</td>\n",
       "      <td>2252</td>\n",
       "      <td>240</td>\n",
       "      <td>111</td>\n",
       "      <td>Beginner Level</td>\n",
       "      <td>21.0</td>\n",
       "      <td>2016-06-20T15:31:48Z</td>\n",
       "      <td>Graphic Design</td>\n",
       "      <td>2016</td>\n",
       "    </tr>\n",
       "    <tr>\n",
       "      <th>1196</th>\n",
       "      <td>1197206</td>\n",
       "      <td>Illustrator CC MasterClass</td>\n",
       "      <td>https://www.udemy.com/illustrator-cc-masterclass/</td>\n",
       "      <td>True</td>\n",
       "      <td>95</td>\n",
       "      <td>462</td>\n",
       "      <td>50</td>\n",
       "      <td>86</td>\n",
       "      <td>All Levels</td>\n",
       "      <td>12.0</td>\n",
       "      <td>2017-05-02T16:41:21Z</td>\n",
       "      <td>Graphic Design</td>\n",
       "      <td>2017</td>\n",
       "    </tr>\n",
       "    <tr>\n",
       "      <th>1197</th>\n",
       "      <td>1117796</td>\n",
       "      <td>Typographic Logo Design in Illustrator - Begin...</td>\n",
       "      <td>https://www.udemy.com/typographical-logo-design/</td>\n",
       "      <td>True</td>\n",
       "      <td>150</td>\n",
       "      <td>1720</td>\n",
       "      <td>40</td>\n",
       "      <td>27</td>\n",
       "      <td>All Levels</td>\n",
       "      <td>1.5</td>\n",
       "      <td>2017-02-23T21:40:39Z</td>\n",
       "      <td>Graphic Design</td>\n",
       "      <td>2017</td>\n",
       "    </tr>\n",
       "    <tr>\n",
       "      <th>1198</th>\n",
       "      <td>1219520</td>\n",
       "      <td>Adobe Illustrator T-Shirt Design for Merch by ...</td>\n",
       "      <td>https://www.udemy.com/merchbyamazondesign/</td>\n",
       "      <td>True</td>\n",
       "      <td>20</td>\n",
       "      <td>390</td>\n",
       "      <td>44</td>\n",
       "      <td>15</td>\n",
       "      <td>All Levels</td>\n",
       "      <td>1.0</td>\n",
       "      <td>2017-06-13T20:41:14Z</td>\n",
       "      <td>Graphic Design</td>\n",
       "      <td>2017</td>\n",
       "    </tr>\n",
       "    <tr>\n",
       "      <th>1199</th>\n",
       "      <td>595876</td>\n",
       "      <td>Logo Design in Adobe Illustrator - for Beginne...</td>\n",
       "      <td>https://www.udemy.com/logodesign/</td>\n",
       "      <td>True</td>\n",
       "      <td>200</td>\n",
       "      <td>4297</td>\n",
       "      <td>337</td>\n",
       "      <td>110</td>\n",
       "      <td>All Levels</td>\n",
       "      <td>7.5</td>\n",
       "      <td>2015-10-01T21:40:39Z</td>\n",
       "      <td>Graphic Design</td>\n",
       "      <td>2015</td>\n",
       "    </tr>\n",
       "  </tbody>\n",
       "</table>\n",
       "</div>"
      ],
      "text/plain": [
       "      course_id                                       course_title  \\\n",
       "1195     880202           Anatomy and Figure Drawing for Beginners   \n",
       "1196    1197206                         Illustrator CC MasterClass   \n",
       "1197    1117796  Typographic Logo Design in Illustrator - Begin...   \n",
       "1198    1219520  Adobe Illustrator T-Shirt Design for Merch by ...   \n",
       "1199     595876  Logo Design in Adobe Illustrator - for Beginne...   \n",
       "\n",
       "                                                    url  is_paid  price  \\\n",
       "1195  https://www.udemy.com/anatomy-and-figure-drawi...     True    150   \n",
       "1196  https://www.udemy.com/illustrator-cc-masterclass/     True     95   \n",
       "1197   https://www.udemy.com/typographical-logo-design/     True    150   \n",
       "1198         https://www.udemy.com/merchbyamazondesign/     True     20   \n",
       "1199                  https://www.udemy.com/logodesign/     True    200   \n",
       "\n",
       "      num_subscribers  num_reviews  num_lectures           level  \\\n",
       "1195             2252          240           111  Beginner Level   \n",
       "1196              462           50            86      All Levels   \n",
       "1197             1720           40            27      All Levels   \n",
       "1198              390           44            15      All Levels   \n",
       "1199             4297          337           110      All Levels   \n",
       "\n",
       "      content_duration   published_timestamp         subject years  \n",
       "1195              21.0  2016-06-20T15:31:48Z  Graphic Design  2016  \n",
       "1196              12.0  2017-05-02T16:41:21Z  Graphic Design  2017  \n",
       "1197               1.5  2017-02-23T21:40:39Z  Graphic Design  2017  \n",
       "1198               1.0  2017-06-13T20:41:14Z  Graphic Design  2017  \n",
       "1199               7.5  2015-10-01T21:40:39Z  Graphic Design  2015  "
      ]
     },
     "execution_count": 120,
     "metadata": {},
     "output_type": "execute_result"
    }
   ],
   "source": [
    "data = df[df['subject'] == 'Graphic Design']\n",
    "data.head()"
   ]
  },
  {
   "cell_type": "code",
   "execution_count": 121,
   "id": "587dd84e",
   "metadata": {},
   "outputs": [
    {
     "data": {
      "image/png": "[encoded data removed]",
      "text/plain": [
       "<Figure size 1440x576 with 1 Axes>"
      ]
     },
     "metadata": {
      "needs_background": "light"
     },
     "output_type": "display_data"
    }
   ],
   "source": [
    "money = data[['years','price']].groupby(by = ['years']).sum()\n",
    "plt.figure(figsize=(20, 8))\n",
    "plt.title('Суммарная прибыль по направлению Graphic Design по годам')\n",
    "plt.plot(money.index,money.values)\n",
    "pass"
   ]
  },
  {
   "cell_type": "markdown",
   "id": "f8dd0e7d",
   "metadata": {},
   "source": [
    "Видно, что по графическому дизайну нет сильной просадки за 2017 год."
   ]
  },
  {
   "cell_type": "code",
   "execution_count": null,
   "id": "10743654",
   "metadata": {},
   "outputs": [],
   "source": []
  }
 ],
 "metadata": {
  "kernelspec": {
   "display_name": "Python 3",
   "language": "python",
   "name": "python3"
  },
  "language_info": {
   "codemirror_mode": {
    "name": "ipython",
    "version": 3
   },
   "file_extension": ".py",
   "mimetype": "text/x-python",
   "name": "python",
   "nbconvert_exporter": "python",
   "pygments_lexer": "ipython3",
   "version": "3.8.8"
  }
 },
 "nbformat": 4,
 "nbformat_minor": 5
}
